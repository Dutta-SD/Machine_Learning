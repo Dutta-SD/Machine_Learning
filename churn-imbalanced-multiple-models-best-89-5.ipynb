{
 "cells": [
  {
   "cell_type": "markdown",
   "execution_count": null,
   "metadata": {},
   "source": [
    "# Churn Modelling with multiple approaches\n",
    "__Churn Modelling__ : This problem is usually concerned with predicting whether a customer\n",
    "is going to stay with a company or not. This is very useful financially for companies as it\n",
    "helps them to target customer groups.\n",
    "\n",
    "This is typically a binary classification problem. That is you need to look at the data and\n",
    "predict whether the person will be __exiting(1)__ or the person will __stay(0)__."
   ]
  },
  {
   "cell_type": "markdown",
   "execution_count": null,
   "metadata": {},
   "source": [
    "In this dataset, we are going to use multiple approaches to this problem of churn modelling"
   ]
  },
  {
   "cell_type": "markdown",
   "execution_count": null,
   "metadata": {},
   "source": [
    "## Initial Setup"
   ]
  },
  {
   "cell_type": "code",
   "execution_count": 1,
   "metadata": {
    "_cell_guid": "b1076dfc-b9ad-4769-8c92-a6c4dae69d19",
    "_uuid": "8f2839f25d086af736a60e9eeb907d3b93b6e0e5"
   },
   "outputs": [
    {
     "name": "stdout",
     "output_type": "stream",
     "text": [
      "/kaggle/input/churn-modelling/Churn_Modelling.csv\n"
     ]
    }
   ],
   "source": [
    "# This Python 3 environment comes with many helpful analytics libraries installed\n",
    "# It is defined by the kaggle/python Docker image: https://github.com/kaggle/docker-python\n",
    "# For example, here's several helpful packages to load\n",
    "\n",
    "import numpy as np # linear algebra\n",
    "import pandas as pd # data processing, CSV file I/O (e.g. pd.read_csv)\n",
    "\n",
    "# Input data files are available in the read-only \"../input/\" directory\n",
    "# For example, running this (by clicking run or pressing Shift+Enter) will list all files under the input directory\n",
    "\n",
    "import os\n",
    "for dirname, _, filenames in os.walk('/kaggle/input'):\n",
    "    for filename in filenames:\n",
    "        print(os.path.join(dirname, filename))\n",
    "\n",
    "# You can write up to 5GB to the current directory (/kaggle/working/) that gets preserved as output when you create a version using \"Save & Run All\" \n",
    "# You can also write temporary files to /kaggle/temp/, but they won't be saved outside of the current session"
   ]
  },
  {
   "cell_type": "code",
   "execution_count": 2,
   "metadata": {
    "_cell_guid": "79c7e3d0-c299-4dcb-8224-4455121ee9b0",
    "_uuid": "d629ff2d2480ee46fbb7e2d37f6b5fab8052498a"
   },
   "outputs": [
    {
     "data": {
      "text/html": [
       "<div>\n",
       "<style scoped>\n",
       "    .dataframe tbody tr th:only-of-type {\n",
       "        vertical-align: middle;\n",
       "    }\n",
       "\n",
       "    .dataframe tbody tr th {\n",
       "        vertical-align: top;\n",
       "    }\n",
       "\n",
       "    .dataframe thead th {\n",
       "        text-align: right;\n",
       "    }\n",
       "</style>\n",
       "<table border=\"1\" class=\"dataframe\">\n",
       "  <thead>\n",
       "    <tr style=\"text-align: right;\">\n",
       "      <th></th>\n",
       "      <th>CustomerId</th>\n",
       "      <th>Surname</th>\n",
       "      <th>CreditScore</th>\n",
       "      <th>Geography</th>\n",
       "      <th>Gender</th>\n",
       "      <th>Age</th>\n",
       "      <th>Tenure</th>\n",
       "      <th>Balance</th>\n",
       "      <th>NumOfProducts</th>\n",
       "      <th>HasCrCard</th>\n",
       "      <th>IsActiveMember</th>\n",
       "      <th>EstimatedSalary</th>\n",
       "      <th>Exited</th>\n",
       "    </tr>\n",
       "    <tr>\n",
       "      <th>RowNumber</th>\n",
       "      <th></th>\n",
       "      <th></th>\n",
       "      <th></th>\n",
       "      <th></th>\n",
       "      <th></th>\n",
       "      <th></th>\n",
       "      <th></th>\n",
       "      <th></th>\n",
       "      <th></th>\n",
       "      <th></th>\n",
       "      <th></th>\n",
       "      <th></th>\n",
       "      <th></th>\n",
       "    </tr>\n",
       "  </thead>\n",
       "  <tbody>\n",
       "    <tr>\n",
       "      <th>1</th>\n",
       "      <td>15634602</td>\n",
       "      <td>Hargrave</td>\n",
       "      <td>619</td>\n",
       "      <td>France</td>\n",
       "      <td>Female</td>\n",
       "      <td>42</td>\n",
       "      <td>2</td>\n",
       "      <td>0.00</td>\n",
       "      <td>1</td>\n",
       "      <td>1</td>\n",
       "      <td>1</td>\n",
       "      <td>101348.88</td>\n",
       "      <td>1</td>\n",
       "    </tr>\n",
       "    <tr>\n",
       "      <th>2</th>\n",
       "      <td>15647311</td>\n",
       "      <td>Hill</td>\n",
       "      <td>608</td>\n",
       "      <td>Spain</td>\n",
       "      <td>Female</td>\n",
       "      <td>41</td>\n",
       "      <td>1</td>\n",
       "      <td>83807.86</td>\n",
       "      <td>1</td>\n",
       "      <td>0</td>\n",
       "      <td>1</td>\n",
       "      <td>112542.58</td>\n",
       "      <td>0</td>\n",
       "    </tr>\n",
       "    <tr>\n",
       "      <th>3</th>\n",
       "      <td>15619304</td>\n",
       "      <td>Onio</td>\n",
       "      <td>502</td>\n",
       "      <td>France</td>\n",
       "      <td>Female</td>\n",
       "      <td>42</td>\n",
       "      <td>8</td>\n",
       "      <td>159660.80</td>\n",
       "      <td>3</td>\n",
       "      <td>1</td>\n",
       "      <td>0</td>\n",
       "      <td>113931.57</td>\n",
       "      <td>1</td>\n",
       "    </tr>\n",
       "    <tr>\n",
       "      <th>4</th>\n",
       "      <td>15701354</td>\n",
       "      <td>Boni</td>\n",
       "      <td>699</td>\n",
       "      <td>France</td>\n",
       "      <td>Female</td>\n",
       "      <td>39</td>\n",
       "      <td>1</td>\n",
       "      <td>0.00</td>\n",
       "      <td>2</td>\n",
       "      <td>0</td>\n",
       "      <td>0</td>\n",
       "      <td>93826.63</td>\n",
       "      <td>0</td>\n",
       "    </tr>\n",
       "    <tr>\n",
       "      <th>5</th>\n",
       "      <td>15737888</td>\n",
       "      <td>Mitchell</td>\n",
       "      <td>850</td>\n",
       "      <td>Spain</td>\n",
       "      <td>Female</td>\n",
       "      <td>43</td>\n",
       "      <td>2</td>\n",
       "      <td>125510.82</td>\n",
       "      <td>1</td>\n",
       "      <td>1</td>\n",
       "      <td>1</td>\n",
       "      <td>79084.10</td>\n",
       "      <td>0</td>\n",
       "    </tr>\n",
       "  </tbody>\n",
       "</table>\n",
       "</div>"
      ],
      "text/plain": [
       "           CustomerId   Surname  CreditScore Geography  Gender  Age  Tenure  \\\n",
       "RowNumber                                                                     \n",
       "1            15634602  Hargrave          619    France  Female   42       2   \n",
       "2            15647311      Hill          608     Spain  Female   41       1   \n",
       "3            15619304      Onio          502    France  Female   42       8   \n",
       "4            15701354      Boni          699    France  Female   39       1   \n",
       "5            15737888  Mitchell          850     Spain  Female   43       2   \n",
       "\n",
       "             Balance  NumOfProducts  HasCrCard  IsActiveMember  \\\n",
       "RowNumber                                                        \n",
       "1               0.00              1          1               1   \n",
       "2           83807.86              1          0               1   \n",
       "3          159660.80              3          1               0   \n",
       "4               0.00              2          0               0   \n",
       "5          125510.82              1          1               1   \n",
       "\n",
       "           EstimatedSalary  Exited  \n",
       "RowNumber                           \n",
       "1                101348.88       1  \n",
       "2                112542.58       0  \n",
       "3                113931.57       1  \n",
       "4                 93826.63       0  \n",
       "5                 79084.10       0  "
      ]
     },
     "execution_count": 2,
     "metadata": {},
     "output_type": "execute_result"
    }
   ],
   "source": [
    "# Import the data\n",
    "data = pd.read_csv('/kaggle/input/churn-modelling/Churn_Modelling.csv', index_col = 'RowNumber')\n",
    "data.head()"
   ]
  },
  {
   "cell_type": "markdown",
   "execution_count": null,
   "metadata": {},
   "source": [
    "As we can see, **Exited** is our dependent feature. Other columns are independent features"
   ]
  },
  {
   "cell_type": "markdown",
   "execution_count": null,
   "metadata": {},
   "source": [
    "Let us check how many values of __Exited__ columns are there so that we can figure out if there is class imbalance or not"
   ]
  },
  {
   "cell_type": "code",
   "execution_count": 3,
   "metadata": {},
   "outputs": [
    {
     "data": {
      "text/plain": [
       "0    7963\n",
       "1    2037\n",
       "Name: Exited, dtype: int64"
      ]
     },
     "execution_count": 3,
     "metadata": {},
     "output_type": "execute_result"
    }
   ],
   "source": [
    "data['Exited'].value_counts()"
   ]
  },
  {
   "cell_type": "markdown",
   "execution_count": null,
   "metadata": {},
   "source": [
    "There are about 8000 examples of '0' and 2000 examples of '1'. This indicates that we have severe class imbalance.\n",
    "This means that if we have a simple naive classifier that predicts 0 all the time, we can easily achieve 80% accuracy.\n",
    "\n",
    "So, we need to generate additional synthetic samples for our dataset so that modelling is effective."
   ]
  },
  {
   "cell_type": "markdown",
   "execution_count": null,
   "metadata": {},
   "source": [
    "## Data Preprocessing\n",
    "In this step, we are going to preprocess our data so that we can use it on our models.\n",
    "\n",
    "Preprocessing involves the following:\n",
    "* Checking for NaN values that is missing values in the data\n",
    "* Visualise the data so that we can derive meaningful insights\n",
    "* Split to training and test datasets\n",
    "* Fill in NaN Values\n",
    "* Convert non numeric features to numeric features so that we can do predictions\n",
    "* Scale the data \n",
    "\n",
    "Let us go ahead with the first step, __checking for NaN/missing values__"
   ]
  },
  {
   "cell_type": "markdown",
   "execution_count": null,
   "metadata": {},
   "source": [
    "### Checking for Missing Values(NaN)"
   ]
  },
  {
   "cell_type": "code",
   "execution_count": 4,
   "metadata": {},
   "outputs": [
    {
     "data": {
      "text/plain": [
       "CustomerId         False\n",
       "Surname            False\n",
       "CreditScore        False\n",
       "Geography          False\n",
       "Gender             False\n",
       "Age                False\n",
       "Tenure             False\n",
       "Balance            False\n",
       "NumOfProducts      False\n",
       "HasCrCard          False\n",
       "IsActiveMember     False\n",
       "EstimatedSalary    False\n",
       "Exited             False\n",
       "dtype: bool"
      ]
     },
     "execution_count": 4,
     "metadata": {},
     "output_type": "execute_result"
    }
   ],
   "source": [
    "# check for missing values\n",
    "data.isnull().any()"
   ]
  },
  {
   "cell_type": "markdown",
   "execution_count": null,
   "metadata": {},
   "source": [
    "Phew! We are lucky we did not get any null values. Usually there are null values in the dataset and we need to remove them"
   ]
  },
  {
   "cell_type": "markdown",
   "execution_count": null,
   "metadata": {},
   "source": [
    "## Data Visualization\n",
    "Here we are going to plot graphs regarding the data to get a deeper insight."
   ]
  },
  {
   "cell_type": "code",
   "execution_count": 5,
   "metadata": {},
   "outputs": [],
   "source": [
    "# Import necessary plotting libraries\n",
    "import matplotlib.pyplot as plt\n",
    "import seaborn as sns\n",
    "\n",
    "# Make figures inline\n",
    "%matplotlib inline"
   ]
  },
  {
   "cell_type": "markdown",
   "execution_count": null,
   "metadata": {},
   "source": [
    "Let us get a list of columns in the data so that we can predict better. \n",
    "We use the .info() method to get the datatypes too"
   ]
  },
  {
   "cell_type": "code",
   "execution_count": 6,
   "metadata": {},
   "outputs": [
    {
     "name": "stdout",
     "output_type": "stream",
     "text": [
      "<class 'pandas.core.frame.DataFrame'>\n",
      "Int64Index: 10000 entries, 1 to 10000\n",
      "Data columns (total 13 columns):\n",
      " #   Column           Non-Null Count  Dtype  \n",
      "---  ------           --------------  -----  \n",
      " 0   CustomerId       10000 non-null  int64  \n",
      " 1   Surname          10000 non-null  object \n",
      " 2   CreditScore      10000 non-null  int64  \n",
      " 3   Geography        10000 non-null  object \n",
      " 4   Gender           10000 non-null  object \n",
      " 5   Age              10000 non-null  int64  \n",
      " 6   Tenure           10000 non-null  int64  \n",
      " 7   Balance          10000 non-null  float64\n",
      " 8   NumOfProducts    10000 non-null  int64  \n",
      " 9   HasCrCard        10000 non-null  int64  \n",
      " 10  IsActiveMember   10000 non-null  int64  \n",
      " 11  EstimatedSalary  10000 non-null  float64\n",
      " 12  Exited           10000 non-null  int64  \n",
      "dtypes: float64(2), int64(8), object(3)\n",
      "memory usage: 1.1+ MB\n"
     ]
    }
   ],
   "source": [
    "data.info()"
   ]
  },
  {
   "cell_type": "markdown",
   "execution_count": null,
   "metadata": {},
   "source": [
    "**Geography, Gender, Surname** are object data-types, while others are either int / float."
   ]
  },
  {
   "cell_type": "code",
   "execution_count": 7,
   "metadata": {},
   "outputs": [
    {
     "data": {
      "text/plain": [
       "<matplotlib.axes._subplots.AxesSubplot at 0x7f9c59bf8f50>"
      ]
     },
     "execution_count": 7,
     "metadata": {},
     "output_type": "execute_result"
    },
    {
     "data": {
      "image/png": "[encoded data removed]",
      "text/plain": [
       "<Figure size 576x576 with 1 Axes>"
      ]
     },
     "metadata": {
      "needs_background": "light"
     },
     "output_type": "display_data"
    }
   ],
   "source": [
    "plt.figure(figsize=(8, 8))\n",
    "sns.boxplot(y = 'CreditScore', x = 'Exited', data = data)"
   ]
  },
  {
   "cell_type": "code",
   "execution_count": 8,
   "metadata": {},
   "outputs": [
    {
     "data": {
      "text/plain": [
       "<matplotlib.axes._subplots.AxesSubplot at 0x7f9c53b131d0>"
      ]
     },
     "execution_count": 8,
     "metadata": {},
     "output_type": "execute_result"
    },
    {
     "data": {
      "image/png": "[encoded data removed]",
      "text/plain": [
       "<Figure size 576x360 with 1 Axes>"
      ]
     },
     "metadata": {
      "needs_background": "light"
     },
     "output_type": "display_data"
    }
   ],
   "source": [
    "plt.figure(figsize=(8, 5))\n",
    "sns.violinplot(y = 'Exited' , x = 'Gender' , data = data, kind='boxen')"
   ]
  },
  {
   "cell_type": "code",
   "execution_count": 9,
   "metadata": {},
   "outputs": [
    {
     "data": {
      "text/plain": [
       "<matplotlib.axes._subplots.AxesSubplot at 0x7f9c59ca8f50>"
      ]
     },
     "execution_count": 9,
     "metadata": {},
     "output_type": "execute_result"
    },
    {
     "data": {
      "image/png": "[encoded data removed]",
      "text/plain": [
       "<Figure size 576x360 with 1 Axes>"
      ]
     },
     "metadata": {
      "needs_background": "light"
     },
     "output_type": "display_data"
    }
   ],
   "source": [
    "plt.figure(figsize=(8, 5))\n",
    "sns.boxplot(y = 'Exited' , x = 'Geography' , data = data)"
   ]
  },
  {
   "cell_type": "markdown",
   "execution_count": null,
   "metadata": {},
   "source": [
    "Let us plot a heatmap of the correlations of the features with each other. That will help us discard non useful features.\n",
    "It also gives us some idea as to what features predict dependent column best"
   ]
  },
  {
   "cell_type": "code",
   "execution_count": 10,
   "metadata": {},
   "outputs": [
    {
     "data": {
      "text/plain": [
       "<matplotlib.axes._subplots.AxesSubplot at 0x7f9c53180f50>"
      ]
     },
     "execution_count": 10,
     "metadata": {},
     "output_type": "execute_result"
    },
    {
     "data": {
      "image/png": "[encoded data removed]",
      "text/plain": [
       "<Figure size 576x360 with 2 Axes>"
      ]
     },
     "metadata": {
      "needs_background": "light"
     },
     "output_type": "display_data"
    }
   ],
   "source": [
    "plt.figure(figsize=(8, 5))\n",
    "sns.heatmap(data.select_dtypes(include='number').corr())"
   ]
  },
  {
   "cell_type": "markdown",
   "execution_count": null,
   "metadata": {},
   "source": [
    "### Converting non numeric features to numeric features\n",
    "We convert non numeric features to numeric features.\n",
    "Also we drop columns which do not seem to contribute anything useful like **CustomerId**, **Surname**.\n",
    "\n",
    "But first we will split the dataset into train and test dataset."
   ]
  },
  {
   "cell_type": "code",
   "execution_count": 11,
   "metadata": {},
   "outputs": [],
   "source": [
    "# Drop a useless feature\n",
    "data.drop(['CustomerId', 'Surname'], axis = 1, inplace = True)"
   ]
  },
  {
   "cell_type": "code",
   "execution_count": 12,
   "metadata": {},
   "outputs": [
    {
     "data": {
      "text/html": [
       "<div>\n",
       "<style scoped>\n",
       "    .dataframe tbody tr th:only-of-type {\n",
       "        vertical-align: middle;\n",
       "    }\n",
       "\n",
       "    .dataframe tbody tr th {\n",
       "        vertical-align: top;\n",
       "    }\n",
       "\n",
       "    .dataframe thead th {\n",
       "        text-align: right;\n",
       "    }\n",
       "</style>\n",
       "<table border=\"1\" class=\"dataframe\">\n",
       "  <thead>\n",
       "    <tr style=\"text-align: right;\">\n",
       "      <th></th>\n",
       "      <th>CreditScore</th>\n",
       "      <th>Geography</th>\n",
       "      <th>Gender</th>\n",
       "      <th>Age</th>\n",
       "      <th>Tenure</th>\n",
       "      <th>Balance</th>\n",
       "      <th>NumOfProducts</th>\n",
       "      <th>HasCrCard</th>\n",
       "      <th>IsActiveMember</th>\n",
       "      <th>EstimatedSalary</th>\n",
       "    </tr>\n",
       "    <tr>\n",
       "      <th>RowNumber</th>\n",
       "      <th></th>\n",
       "      <th></th>\n",
       "      <th></th>\n",
       "      <th></th>\n",
       "      <th></th>\n",
       "      <th></th>\n",
       "      <th></th>\n",
       "      <th></th>\n",
       "      <th></th>\n",
       "      <th></th>\n",
       "    </tr>\n",
       "  </thead>\n",
       "  <tbody>\n",
       "    <tr>\n",
       "      <th>1</th>\n",
       "      <td>619</td>\n",
       "      <td>France</td>\n",
       "      <td>Female</td>\n",
       "      <td>42</td>\n",
       "      <td>2</td>\n",
       "      <td>0.00</td>\n",
       "      <td>1</td>\n",
       "      <td>1</td>\n",
       "      <td>1</td>\n",
       "      <td>101348.88</td>\n",
       "    </tr>\n",
       "    <tr>\n",
       "      <th>2</th>\n",
       "      <td>608</td>\n",
       "      <td>Spain</td>\n",
       "      <td>Female</td>\n",
       "      <td>41</td>\n",
       "      <td>1</td>\n",
       "      <td>83807.86</td>\n",
       "      <td>1</td>\n",
       "      <td>0</td>\n",
       "      <td>1</td>\n",
       "      <td>112542.58</td>\n",
       "    </tr>\n",
       "    <tr>\n",
       "      <th>3</th>\n",
       "      <td>502</td>\n",
       "      <td>France</td>\n",
       "      <td>Female</td>\n",
       "      <td>42</td>\n",
       "      <td>8</td>\n",
       "      <td>159660.80</td>\n",
       "      <td>3</td>\n",
       "      <td>1</td>\n",
       "      <td>0</td>\n",
       "      <td>113931.57</td>\n",
       "    </tr>\n",
       "    <tr>\n",
       "      <th>4</th>\n",
       "      <td>699</td>\n",
       "      <td>France</td>\n",
       "      <td>Female</td>\n",
       "      <td>39</td>\n",
       "      <td>1</td>\n",
       "      <td>0.00</td>\n",
       "      <td>2</td>\n",
       "      <td>0</td>\n",
       "      <td>0</td>\n",
       "      <td>93826.63</td>\n",
       "    </tr>\n",
       "    <tr>\n",
       "      <th>5</th>\n",
       "      <td>850</td>\n",
       "      <td>Spain</td>\n",
       "      <td>Female</td>\n",
       "      <td>43</td>\n",
       "      <td>2</td>\n",
       "      <td>125510.82</td>\n",
       "      <td>1</td>\n",
       "      <td>1</td>\n",
       "      <td>1</td>\n",
       "      <td>79084.10</td>\n",
       "    </tr>\n",
       "  </tbody>\n",
       "</table>\n",
       "</div>"
      ],
      "text/plain": [
       "           CreditScore Geography  Gender  Age  Tenure    Balance  \\\n",
       "RowNumber                                                          \n",
       "1                  619    France  Female   42       2       0.00   \n",
       "2                  608     Spain  Female   41       1   83807.86   \n",
       "3                  502    France  Female   42       8  159660.80   \n",
       "4                  699    France  Female   39       1       0.00   \n",
       "5                  850     Spain  Female   43       2  125510.82   \n",
       "\n",
       "           NumOfProducts  HasCrCard  IsActiveMember  EstimatedSalary  \n",
       "RowNumber                                                             \n",
       "1                      1          1               1        101348.88  \n",
       "2                      1          0               1        112542.58  \n",
       "3                      3          1               0        113931.57  \n",
       "4                      2          0               0         93826.63  \n",
       "5                      1          1               1         79084.10  "
      ]
     },
     "execution_count": 12,
     "metadata": {},
     "output_type": "execute_result"
    }
   ],
   "source": [
    "# Get dependent and independent features\n",
    "X = data.iloc[:, :-1]\n",
    "y = data.iloc[:, -1].astype('float')\n",
    "X.head()"
   ]
  },
  {
   "cell_type": "code",
   "execution_count": 13,
   "metadata": {},
   "outputs": [
    {
     "data": {
      "text/plain": [
       "(7000, 3000)"
      ]
     },
     "execution_count": 13,
     "metadata": {},
     "output_type": "execute_result"
    }
   ],
   "source": [
    "# Splitting to train test dataset\n",
    "from sklearn.model_selection import train_test_split\n",
    "\n",
    "X_train, X_val, y_train, y_val = train_test_split(X, y, test_size = 0.3, random_state = 40)\n",
    "len(y_train), len(y_val)"
   ]
  },
  {
   "cell_type": "code",
   "execution_count": 14,
   "metadata": {},
   "outputs": [],
   "source": [
    "# Reset the indexes of the splitted data frames\n",
    "X_train.reset_index(drop=True, inplace=True)\n",
    "X_val.reset_index(drop=True, inplace=True)\n",
    "\n",
    "y_train.reset_index(drop=True, inplace=True)\n",
    "y_val.reset_index(drop=True, inplace=True)"
   ]
  },
  {
   "cell_type": "code",
   "execution_count": 15,
   "metadata": {},
   "outputs": [
    {
     "data": {
      "text/plain": [
       "['Geography', 'Gender']"
      ]
     },
     "execution_count": 15,
     "metadata": {},
     "output_type": "execute_result"
    }
   ],
   "source": [
    "# Select categorical columns\n",
    "categorical_cols = [col for col in data.select_dtypes(exclude='number').columns]\n",
    "categorical_cols"
   ]
  },
  {
   "cell_type": "code",
   "execution_count": 16,
   "metadata": {},
   "outputs": [
    {
     "name": "stderr",
     "output_type": "stream",
     "text": [
      "/opt/conda/lib/python3.7/site-packages/pandas/core/frame.py:3997: SettingWithCopyWarning: \n",
      "A value is trying to be set on a copy of a slice from a DataFrame\n",
      "\n",
      "See the caveats in the documentation: https://pandas.pydata.org/pandas-docs/stable/user_guide/indexing.html#returning-a-view-versus-a-copy\n",
      "  errors=errors,\n"
     ]
    }
   ],
   "source": [
    "# Label encoder object\n",
    "from sklearn.preprocessing import LabelEncoder\n",
    "label_encoder = LabelEncoder()\n",
    "\n",
    "# Create two empty data frames\n",
    "X_train_categorical, X_val_categorical = pd.DataFrame(), pd.DataFrame()\n",
    "\n",
    "# Label Encode the features\n",
    "for col in categorical_cols:\n",
    "    X_train_categorical[col] = label_encoder.fit_transform(X_train[col])\n",
    "    X_val_categorical[col] = label_encoder.transform(X_val[col])\n",
    "\n",
    "# Drop the non required columns\n",
    "X_train.drop(categorical_cols, axis = 1, inplace = True)\n",
    "X_val.drop(categorical_cols, axis = 1, inplace=True)\n",
    "\n",
    "# put new colums in dataframe\n",
    "X_train = X_train.join(X_train_categorical)\n",
    "X_val = X_val.join(X_val_categorical)"
   ]
  },
  {
   "cell_type": "markdown",
   "execution_count": null,
   "metadata": {},
   "source": [
    "## Scale the data\n",
    "\n",
    "Scaling means to convert the features into a specified range. This helps to make the algorithms converge.\n",
    "Algorithms like Gradient Descent require Scaling to converge quickly"
   ]
  },
  {
   "cell_type": "code",
   "execution_count": 17,
   "metadata": {},
   "outputs": [],
   "source": [
    "# import scaler\n",
    "from sklearn.preprocessing import StandardScaler\n",
    "sc = StandardScaler()\n",
    "\n",
    "# Fit and transform training data\n",
    "X_train = sc.fit_transform(X_train)\n",
    "\n",
    "#Transform the validation data\n",
    "X_val = sc.transform(X_val)"
   ]
  },
  {
   "cell_type": "code",
   "execution_count": 18,
   "metadata": {},
   "outputs": [
    {
     "data": {
      "text/plain": [
       "(0.0    5573\n",
       " 1.0    1427\n",
       " Name: Exited, dtype: int64,\n",
       " 0.0    2390\n",
       " 1.0     610\n",
       " Name: Exited, dtype: int64)"
      ]
     },
     "execution_count": 18,
     "metadata": {},
     "output_type": "execute_result"
    }
   ],
   "source": [
    "y_train.value_counts(), y_val.value_counts()"
   ]
  },
  {
   "cell_type": "markdown",
   "execution_count": null,
   "metadata": {},
   "source": [
    "## Generating new data by oversampling\n",
    "Since we have an imbalanced dataset, we will increase the number of samples by SMOTE technique"
   ]
  },
  {
   "cell_type": "code",
   "execution_count": 19,
   "metadata": {},
   "outputs": [],
   "source": [
    "from imblearn.combine import SMOTETomek\n",
    "\n",
    "smk = SMOTETomek()\n",
    "# Oversample training  data\n",
    "X_train, y_train = smk.fit_sample(X_train, y_train)\n",
    "\n",
    "# Oversample validation data\n",
    "X_val, y_val = smk.fit_sample(X_val, y_val)"
   ]
  },
  {
   "cell_type": "markdown",
   "execution_count": null,
   "metadata": {},
   "source": [
    "## Final check at the dataset before putting in model\n",
    "Now we take a final look at the dataset"
   ]
  },
  {
   "cell_type": "code",
   "execution_count": 20,
   "metadata": {},
   "outputs": [
    {
     "data": {
      "text/plain": [
       "((10972, 10), (4724, 10))"
      ]
     },
     "execution_count": 20,
     "metadata": {},
     "output_type": "execute_result"
    }
   ],
   "source": [
    "X_train.shape, X_val.shape"
   ]
  },
  {
   "cell_type": "code",
   "execution_count": 21,
   "metadata": {},
   "outputs": [
    {
     "data": {
      "text/plain": [
       "array([[-0.62099453, -0.84794096,  1.03327441,  0.77841135,  0.79175325,\n",
       "        -1.55982545, -1.0354864 , -0.86432413,  1.52346926,  0.91634307],\n",
       "       [-0.84845207,  0.20265607, -1.04048318, -1.23109531,  0.79175325,\n",
       "         0.64109738, -1.0354864 ,  0.59666978,  1.52346926,  0.91634307],\n",
       "       [-1.40675693, -1.32548506,  0.68764814,  0.04910917, -0.91356144,\n",
       "        -1.55982545,  0.96572973, -1.06856193, -0.89446177, -1.09129433],\n",
       "       [ 1.29171659, -0.75243213, -0.00360439, -1.23109531,  0.79175325,\n",
       "         0.64109738, -1.0354864 , -0.12914002, -0.89446177, -1.09129433],\n",
       "       [-0.11438456,  2.68588541, -0.69485692, -1.23109531, -0.91356144,\n",
       "        -1.55982545,  0.96572973, -0.99546923, -0.89446177, -1.09129433]])"
      ]
     },
     "execution_count": 21,
     "metadata": {},
     "output_type": "execute_result"
    }
   ],
   "source": [
    "X_train[:5]"
   ]
  },
  {
   "cell_type": "markdown",
   "execution_count": null,
   "metadata": {},
   "source": [
    "## Models\n",
    "We will be using the following models \n",
    "* Logistic Regression\n",
    "* Decision Tree\n",
    "* Random Forest Classifier\n",
    "* Extra Trees Classifier\n",
    "* XGBClassifier\n",
    "* ANN"
   ]
  },
  {
   "cell_type": "code",
   "execution_count": 22,
   "metadata": {},
   "outputs": [],
   "source": [
    "# metric\n",
    "from sklearn.metrics import f1_score"
   ]
  },
  {
   "cell_type": "markdown",
   "execution_count": null,
   "metadata": {},
   "source": [
    "### Logistic Regression"
   ]
  },
  {
   "cell_type": "code",
   "execution_count": 23,
   "metadata": {},
   "outputs": [
    {
     "data": {
      "text/plain": [
       "0.703404255319149"
      ]
     },
     "execution_count": 23,
     "metadata": {},
     "output_type": "execute_result"
    }
   ],
   "source": [
    "from sklearn.linear_model import LogisticRegression\n",
    "\n",
    "model = LogisticRegression(solver = 'lbfgs')\n",
    "\n",
    "# fit the data\n",
    "model.fit(X_train, y_train)\n",
    "\n",
    "# Get predictions\n",
    "y_preds = model.predict(X_val)\n",
    "\n",
    "# Get score\n",
    "f1_score(y_preds, y_val)"
   ]
  },
  {
   "cell_type": "markdown",
   "execution_count": null,
   "metadata": {},
   "source": [
    "### Decision Tree"
   ]
  },
  {
   "cell_type": "code",
   "execution_count": 24,
   "metadata": {},
   "outputs": [
    {
     "data": {
      "text/plain": [
       "0.7750958718700653"
      ]
     },
     "execution_count": 24,
     "metadata": {},
     "output_type": "execute_result"
    }
   ],
   "source": [
    "from sklearn.tree import DecisionTreeClassifier\n",
    "\n",
    "model = DecisionTreeClassifier()\n",
    "\n",
    "# fit the data\n",
    "model.fit(X_train, y_train)\n",
    "\n",
    "# Get predictions\n",
    "y_preds = model.predict(X_val)\n",
    "\n",
    "# Get score\n",
    "f1_score(y_preds, y_val)"
   ]
  },
  {
   "cell_type": "markdown",
   "execution_count": null,
   "metadata": {},
   "source": [
    "### Random Forest Classifier"
   ]
  },
  {
   "cell_type": "code",
   "execution_count": 25,
   "metadata": {},
   "outputs": [
    {
     "data": {
      "text/plain": [
       "0.8258503401360544"
      ]
     },
     "execution_count": 25,
     "metadata": {},
     "output_type": "execute_result"
    }
   ],
   "source": [
    "from sklearn.ensemble import RandomForestClassifier\n",
    "\n",
    "model = RandomForestClassifier()\n",
    "\n",
    "# fit the data\n",
    "model.fit(X_train, y_train)\n",
    "\n",
    "# Get predictions\n",
    "y_preds = model.predict(X_val)\n",
    "\n",
    "# Get score\n",
    "f1_score(y_val, y_preds)"
   ]
  },
  {
   "cell_type": "markdown",
   "execution_count": null,
   "metadata": {},
   "source": [
    "### Extra Trees Classifier"
   ]
  },
  {
   "cell_type": "code",
   "execution_count": 26,
   "metadata": {},
   "outputs": [
    {
     "data": {
      "text/plain": [
       "0.7981286549707602"
      ]
     },
     "execution_count": 26,
     "metadata": {},
     "output_type": "execute_result"
    }
   ],
   "source": [
    "from sklearn.ensemble import ExtraTreesClassifier\n",
    "\n",
    "model = ExtraTreesClassifier()\n",
    "\n",
    "# fit the data\n",
    "model.fit(X_train, y_train)\n",
    "\n",
    "# Get predictions\n",
    "y_preds = model.predict(X_val)\n",
    "\n",
    "# Get score\n",
    "f1_score(y_val, y_preds)"
   ]
  },
  {
   "cell_type": "code",
   "execution_count": 27,
   "metadata": {},
   "outputs": [
    {
     "data": {
      "text/plain": [
       "0.8937568455640744"
      ]
     },
     "execution_count": 27,
     "metadata": {},
     "output_type": "execute_result"
    }
   ],
   "source": [
    "from xgboost import XGBClassifier\n",
    "\n",
    "model = XGBClassifier()\n",
    "\n",
    "# fit the data\n",
    "model.fit(X_train, y_train)\n",
    "\n",
    "# Get predictions\n",
    "y_preds = model.predict(X_val)\n",
    "\n",
    "# Get score\n",
    "f1_score(y_val, y_preds)\n"
   ]
  },
  {
   "cell_type": "markdown",
   "execution_count": null,
   "metadata": {},
   "source": [
    "## ANN"
   ]
  },
  {
   "cell_type": "code",
   "execution_count": 28,
   "metadata": {},
   "outputs": [],
   "source": [
    "from tensorflow import keras as K"
   ]
  },
  {
   "cell_type": "code",
   "execution_count": 29,
   "metadata": {},
   "outputs": [],
   "source": [
    "def lrelu(x):\n",
    "    return K.activations.relu(x, alpha = 0.01)"
   ]
  },
  {
   "cell_type": "code",
   "execution_count": 30,
   "metadata": {},
   "outputs": [
    {
     "name": "stdout",
     "output_type": "stream",
     "text": [
      "Model: \"sequential\"\n",
      "_________________________________________________________________\n",
      "Layer (type)                 Output Shape              Param #   \n",
      "=================================================================\n",
      "dense (Dense)                (None, 8)                 88        \n",
      "_________________________________________________________________\n",
      "dropout (Dropout)            (None, 8)                 0         \n",
      "_________________________________________________________________\n",
      "dense_1 (Dense)              (None, 8)                 72        \n",
      "_________________________________________________________________\n",
      "dropout_1 (Dropout)          (None, 8)                 0         \n",
      "_________________________________________________________________\n",
      "dense_2 (Dense)              (None, 4)                 36        \n",
      "_________________________________________________________________\n",
      "dropout_2 (Dropout)          (None, 4)                 0         \n",
      "_________________________________________________________________\n",
      "dense_3 (Dense)              (None, 2)                 10        \n",
      "_________________________________________________________________\n",
      "dropout_3 (Dropout)          (None, 2)                 0         \n",
      "_________________________________________________________________\n",
      "dense_4 (Dense)              (None, 1)                 3         \n",
      "=================================================================\n",
      "Total params: 209\n",
      "Trainable params: 209\n",
      "Non-trainable params: 0\n",
      "_________________________________________________________________\n"
     ]
    }
   ],
   "source": [
    "model = K.Sequential()\n",
    "\n",
    "model.add(K.layers.Dense(8, input_dim = 10, activation = lrelu))\n",
    "model.add(K.layers.Dropout(0.4))\n",
    "\n",
    "model.add(K.layers.Dense(8, activation = lrelu))\n",
    "model.add(K.layers.Dropout(0.4))\n",
    "\n",
    "model.add(K.layers.Dense(4, activation = lrelu))\n",
    "model.add(K.layers.Dropout(0.4))\n",
    "\n",
    "model.add(K.layers.Dense(2, activation = lrelu))\n",
    "model.add(K.layers.Dropout(0.5))\n",
    "\n",
    "model.add(K.layers.Dense(1, activation = 'sigmoid'))\n",
    "\n",
    "model.summary()"
   ]
  },
  {
   "cell_type": "code",
   "execution_count": 31,
   "metadata": {},
   "outputs": [],
   "source": [
    "opt = K.optimizers.Adam(learning_rate = 0.01)\n",
    "\n",
    "model.compile(loss='binary_crossentropy', optimizer=opt, metrics=['accuracy'])"
   ]
  },
  {
   "cell_type": "code",
   "execution_count": 32,
   "metadata": {},
   "outputs": [
    {
     "name": "stdout",
     "output_type": "stream",
     "text": [
      "Epoch 1/20\n",
      "43/43 [==============================] - 0s 7ms/step - loss: 0.6984 - accuracy: 0.5302 - val_loss: 0.6822 - val_accuracy: 0.6080\n",
      "Epoch 2/20\n",
      "43/43 [==============================] - 0s 6ms/step - loss: 0.6762 - accuracy: 0.5760 - val_loss: 0.6463 - val_accuracy: 0.6869\n",
      "Epoch 3/20\n",
      "43/43 [==============================] - 0s 2ms/step - loss: 0.6671 - accuracy: 0.5941 - val_loss: 0.6294 - val_accuracy: 0.7022\n",
      "Epoch 4/20\n",
      "43/43 [==============================] - 0s 2ms/step - loss: 0.6628 - accuracy: 0.6073 - val_loss: 0.6284 - val_accuracy: 0.7066\n",
      "Epoch 5/20\n",
      "43/43 [==============================] - 0s 2ms/step - loss: 0.6565 - accuracy: 0.6163 - val_loss: 0.6175 - val_accuracy: 0.7117\n",
      "Epoch 6/20\n",
      "43/43 [==============================] - 0s 2ms/step - loss: 0.6555 - accuracy: 0.6204 - val_loss: 0.6158 - val_accuracy: 0.7178\n",
      "Epoch 7/20\n",
      "43/43 [==============================] - 0s 2ms/step - loss: 0.6552 - accuracy: 0.6223 - val_loss: 0.6185 - val_accuracy: 0.7110\n",
      "Epoch 8/20\n",
      "43/43 [==============================] - 0s 2ms/step - loss: 0.6535 - accuracy: 0.6260 - val_loss: 0.6155 - val_accuracy: 0.7240\n",
      "Epoch 9/20\n",
      "43/43 [==============================] - 0s 2ms/step - loss: 0.6513 - accuracy: 0.6186 - val_loss: 0.6014 - val_accuracy: 0.7411\n",
      "Epoch 10/20\n",
      "43/43 [==============================] - 0s 2ms/step - loss: 0.6432 - accuracy: 0.6230 - val_loss: 0.5891 - val_accuracy: 0.7405\n",
      "Epoch 11/20\n",
      "43/43 [==============================] - 0s 3ms/step - loss: 0.6461 - accuracy: 0.6342 - val_loss: 0.5935 - val_accuracy: 0.7411\n",
      "Epoch 12/20\n",
      "43/43 [==============================] - 0s 2ms/step - loss: 0.6389 - accuracy: 0.6435 - val_loss: 0.5975 - val_accuracy: 0.7369\n",
      "Epoch 13/20\n",
      "43/43 [==============================] - 0s 2ms/step - loss: 0.6403 - accuracy: 0.6414 - val_loss: 0.5936 - val_accuracy: 0.7492\n",
      "Epoch 14/20\n",
      "43/43 [==============================] - 0s 2ms/step - loss: 0.6394 - accuracy: 0.6430 - val_loss: 0.5883 - val_accuracy: 0.7492\n",
      "Epoch 15/20\n",
      "43/43 [==============================] - 0s 2ms/step - loss: 0.6358 - accuracy: 0.6490 - val_loss: 0.5841 - val_accuracy: 0.7407\n",
      "Epoch 16/20\n",
      "43/43 [==============================] - 0s 2ms/step - loss: 0.6380 - accuracy: 0.6397 - val_loss: 0.5759 - val_accuracy: 0.7417\n",
      "Epoch 17/20\n",
      "43/43 [==============================] - 0s 2ms/step - loss: 0.6301 - accuracy: 0.6530 - val_loss: 0.5818 - val_accuracy: 0.7343\n",
      "Epoch 18/20\n",
      "43/43 [==============================] - 0s 2ms/step - loss: 0.6324 - accuracy: 0.6529 - val_loss: 0.5886 - val_accuracy: 0.7405\n",
      "Epoch 19/20\n",
      "43/43 [==============================] - 0s 3ms/step - loss: 0.6274 - accuracy: 0.6615 - val_loss: 0.5808 - val_accuracy: 0.7411\n",
      "Epoch 20/20\n",
      "43/43 [==============================] - 0s 2ms/step - loss: 0.6333 - accuracy: 0.6577 - val_loss: 0.5840 - val_accuracy: 0.7415\n"
     ]
    }
   ],
   "source": [
    "history = model.fit(X_train, y_train, epochs=20, batch_size=256, validation_data=(X_val, y_val))"
   ]
  },
  {
   "cell_type": "code",
   "execution_count": 33,
   "metadata": {},
   "outputs": [
    {
     "name": "stdout",
     "output_type": "stream",
     "text": [
      "Epoch 1/20\n",
      "22/22 [==============================] - 0s 7ms/step - loss: 0.6291 - accuracy: 0.6531 - val_loss: 0.5837 - val_accuracy: 0.7424\n",
      "Epoch 2/20\n",
      "22/22 [==============================] - 0s 3ms/step - loss: 0.6300 - accuracy: 0.6549 - val_loss: 0.5841 - val_accuracy: 0.7441\n",
      "Epoch 3/20\n",
      "22/22 [==============================] - 0s 3ms/step - loss: 0.6273 - accuracy: 0.6582 - val_loss: 0.5826 - val_accuracy: 0.7447\n",
      "Epoch 4/20\n",
      "22/22 [==============================] - 0s 3ms/step - loss: 0.6249 - accuracy: 0.6582 - val_loss: 0.5811 - val_accuracy: 0.7458\n",
      "Epoch 5/20\n",
      "22/22 [==============================] - 0s 4ms/step - loss: 0.6277 - accuracy: 0.6606 - val_loss: 0.5812 - val_accuracy: 0.7456\n",
      "Epoch 6/20\n",
      "22/22 [==============================] - 0s 4ms/step - loss: 0.6243 - accuracy: 0.6580 - val_loss: 0.5800 - val_accuracy: 0.7475\n",
      "Epoch 7/20\n",
      "22/22 [==============================] - 0s 3ms/step - loss: 0.6246 - accuracy: 0.6552 - val_loss: 0.5782 - val_accuracy: 0.7466\n",
      "Epoch 8/20\n",
      "22/22 [==============================] - 0s 4ms/step - loss: 0.6285 - accuracy: 0.6611 - val_loss: 0.5791 - val_accuracy: 0.7472\n",
      "Epoch 9/20\n",
      "22/22 [==============================] - 0s 3ms/step - loss: 0.6255 - accuracy: 0.6522 - val_loss: 0.5780 - val_accuracy: 0.7477\n",
      "Epoch 10/20\n",
      "22/22 [==============================] - 0s 3ms/step - loss: 0.6199 - accuracy: 0.6613 - val_loss: 0.5761 - val_accuracy: 0.7470\n",
      "Epoch 11/20\n",
      "22/22 [==============================] - 0s 3ms/step - loss: 0.6274 - accuracy: 0.6593 - val_loss: 0.5773 - val_accuracy: 0.7475\n",
      "Epoch 12/20\n",
      "22/22 [==============================] - 0s 3ms/step - loss: 0.6219 - accuracy: 0.6621 - val_loss: 0.5763 - val_accuracy: 0.7479\n",
      "Epoch 13/20\n",
      "22/22 [==============================] - 0s 3ms/step - loss: 0.6230 - accuracy: 0.6586 - val_loss: 0.5752 - val_accuracy: 0.7477\n",
      "Epoch 14/20\n",
      "22/22 [==============================] - 0s 3ms/step - loss: 0.6263 - accuracy: 0.6622 - val_loss: 0.5760 - val_accuracy: 0.7475\n",
      "Epoch 15/20\n",
      "22/22 [==============================] - 0s 4ms/step - loss: 0.6235 - accuracy: 0.6589 - val_loss: 0.5765 - val_accuracy: 0.7489\n",
      "Epoch 16/20\n",
      "22/22 [==============================] - 0s 3ms/step - loss: 0.6198 - accuracy: 0.6647 - val_loss: 0.5757 - val_accuracy: 0.7483\n",
      "Epoch 17/20\n",
      "22/22 [==============================] - 0s 3ms/step - loss: 0.6247 - accuracy: 0.6607 - val_loss: 0.5748 - val_accuracy: 0.7468\n",
      "Epoch 18/20\n",
      "22/22 [==============================] - 0s 3ms/step - loss: 0.6218 - accuracy: 0.6634 - val_loss: 0.5756 - val_accuracy: 0.7470\n",
      "Epoch 19/20\n",
      "22/22 [==============================] - 0s 3ms/step - loss: 0.6274 - accuracy: 0.6557 - val_loss: 0.5751 - val_accuracy: 0.7477\n",
      "Epoch 20/20\n",
      "22/22 [==============================] - 0s 3ms/step - loss: 0.6261 - accuracy: 0.6609 - val_loss: 0.5761 - val_accuracy: 0.7477\n"
     ]
    }
   ],
   "source": [
    "opt = K.optimizers.Adam(learning_rate = 0.001)\n",
    "\n",
    "model.compile(loss='binary_crossentropy', optimizer=opt, metrics=['accuracy'])\n",
    "\n",
    "history = model.fit(X_train, y_train, epochs=20, batch_size=512, validation_data=(X_val, y_val))"
   ]
  },
  {
   "cell_type": "code",
   "execution_count": 34,
   "metadata": {},
   "outputs": [],
   "source": [
    "y_preds = model.predict_classes(X_val)"
   ]
  },
  {
   "cell_type": "code",
   "execution_count": 35,
   "metadata": {},
   "outputs": [
    {
     "data": {
      "text/plain": [
       "0.7544293366295839"
      ]
     },
     "execution_count": 35,
     "metadata": {},
     "output_type": "execute_result"
    }
   ],
   "source": [
    "f1_score(y_val, y_preds)"
   ]
  },
  {
   "cell_type": "markdown",
   "execution_count": null,
   "metadata": {},
   "source": [
    "## Conclusion\n",
    "In this notebook, we see XgBoost getting the best results.Neural Network can perform well, but the hyperparameters, model architecture all need to be changed.\n",
    "I am a beginner and I am still learning.\n",
    "\n",
    "### Scope for improvement\n",
    "\n",
    "* Improve ANN architecture\n",
    "* Tune hyperparameters for Machine Learning Models\n",
    "* Change optimizer for model\n"
   ]
  }
 ],
 "metadata": {
  "kernelspec": {
   "display_name": "Python 3",
   "language": "python",
   "name": "python3"
  },
  "language_info": {
   "codemirror_mode": {
    "name": "ipython",
    "version": 3
   },
   "file_extension": ".py",
   "mimetype": "text/x-python",
   "name": "python",
   "nbconvert_exporter": "python",
   "pygments_lexer": "ipython3",
   "version": "3.7.6"
  }
 },
 "nbformat": 4,
 "nbformat_minor": 4
}
